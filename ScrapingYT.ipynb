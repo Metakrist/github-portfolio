{
 "cells": [
  {
   "cell_type": "code",
   "execution_count": 2,
   "id": "35634201",
   "metadata": {},
   "outputs": [],
   "source": [
    "from googleapiclient.discovery import build"
   ]
  },
  {
   "cell_type": "code",
   "execution_count": null,
   "id": "dad05cd5",
   "metadata": {},
   "outputs": [],
   "source": [
    "api_key = 'xxxx'"
   ]
  },
  {
   "cell_type": "code",
   "execution_count": 4,
   "id": "8fef9dfc",
   "metadata": {},
   "outputs": [],
   "source": [
    "youtube = build( \n",
    "    'youtube','v3', developerKey= api_key\n",
    ")"
   ]
  },
  {
   "cell_type": "code",
   "execution_count": 5,
   "id": "8de4062c",
   "metadata": {},
   "outputs": [],
   "source": [
    "#make a request to Youtube API\n",
    "request = youtube.channels().list(\n",
    "    part = 'statistics',\n",
    "    forUsername = 'BBCNews'\n",
    ")"
   ]
  },
  {
   "cell_type": "code",
   "execution_count": 6,
   "id": "cd033ca4",
   "metadata": {},
   "outputs": [],
   "source": [
    "#Get response from API\n",
    "response = request.execute()"
   ]
  },
  {
   "cell_type": "code",
   "execution_count": 7,
   "id": "b417630f",
   "metadata": {},
   "outputs": [
    {
     "data": {
      "text/plain": [
       "{'kind': 'youtube#channelListResponse',\n",
       " 'etag': 'YRBhVIDXQ_A3KXg6zOABVaf84sc',\n",
       " 'pageInfo': {'totalResults': 1, 'resultsPerPage': 5},\n",
       " 'items': [{'kind': 'youtube#channel',\n",
       "   'etag': '0MmIDyfVkPK4hzsPU2--rK6Fsl8',\n",
       "   'id': 'UC16niRr50-MSBwiO3YDb3RA',\n",
       "   'statistics': {'viewCount': '6070095198',\n",
       "    'subscriberCount': '18000000',\n",
       "    'hiddenSubscriberCount': False,\n",
       "    'videoCount': '25437'}}]}"
      ]
     },
     "execution_count": 7,
     "metadata": {},
     "output_type": "execute_result"
    }
   ],
   "source": [
    "#print the response\n",
    "response"
   ]
  },
  {
   "cell_type": "code",
   "execution_count": 8,
   "id": "91869af1",
   "metadata": {},
   "outputs": [],
   "source": [
    "import pandas as pd\n",
    "df = pd.DataFrame(response, columns=['kind','etag','pageinfo','items','etag','id','statistics','subscriberCount','hiddenSubscriberCount','videoCount'])"
   ]
  },
  {
   "cell_type": "code",
   "execution_count": 9,
   "id": "36299427",
   "metadata": {},
   "outputs": [
    {
     "data": {
      "text/html": [
       "<div>\n",
       "<style scoped>\n",
       "    .dataframe tbody tr th:only-of-type {\n",
       "        vertical-align: middle;\n",
       "    }\n",
       "\n",
       "    .dataframe tbody tr th {\n",
       "        vertical-align: top;\n",
       "    }\n",
       "\n",
       "    .dataframe thead th {\n",
       "        text-align: right;\n",
       "    }\n",
       "</style>\n",
       "<table border=\"1\" class=\"dataframe\">\n",
       "  <thead>\n",
       "    <tr style=\"text-align: right;\">\n",
       "      <th></th>\n",
       "      <th>kind</th>\n",
       "      <th>etag</th>\n",
       "      <th>pageinfo</th>\n",
       "      <th>items</th>\n",
       "      <th>etag</th>\n",
       "      <th>id</th>\n",
       "      <th>statistics</th>\n",
       "      <th>subscriberCount</th>\n",
       "      <th>hiddenSubscriberCount</th>\n",
       "      <th>videoCount</th>\n",
       "    </tr>\n",
       "  </thead>\n",
       "  <tbody>\n",
       "    <tr>\n",
       "      <th>0</th>\n",
       "      <td>youtube#channelListResponse</td>\n",
       "      <td>YRBhVIDXQ_A3KXg6zOABVaf84sc</td>\n",
       "      <td>NaN</td>\n",
       "      <td>{'kind': 'youtube#channel', 'etag': '0MmIDyfVk...</td>\n",
       "      <td>YRBhVIDXQ_A3KXg6zOABVaf84sc</td>\n",
       "      <td>NaN</td>\n",
       "      <td>NaN</td>\n",
       "      <td>NaN</td>\n",
       "      <td>NaN</td>\n",
       "      <td>NaN</td>\n",
       "    </tr>\n",
       "  </tbody>\n",
       "</table>\n",
       "</div>"
      ],
      "text/plain": [
       "                          kind                         etag pageinfo  \\\n",
       "0  youtube#channelListResponse  YRBhVIDXQ_A3KXg6zOABVaf84sc      NaN   \n",
       "\n",
       "                                               items  \\\n",
       "0  {'kind': 'youtube#channel', 'etag': '0MmIDyfVk...   \n",
       "\n",
       "                          etag   id statistics subscriberCount  \\\n",
       "0  YRBhVIDXQ_A3KXg6zOABVaf84sc  NaN        NaN             NaN   \n",
       "\n",
       "  hiddenSubscriberCount videoCount  \n",
       "0                   NaN        NaN  "
      ]
     },
     "execution_count": 9,
     "metadata": {},
     "output_type": "execute_result"
    }
   ],
   "source": [
    "df"
   ]
  },
  {
   "cell_type": "code",
   "execution_count": 10,
   "id": "909475e4",
   "metadata": {},
   "outputs": [],
   "source": [
    "from IPython.display import Markdown, display\n",
    "\n",
    "def printmd(string, color=None):\n",
    "    if color:\n",
    "        display(Markdown(f\"<span style='color:{color.lower()}'>{string}</span>\"))\n",
    "    else:\n",
    "        display(Markdown(string))"
   ]
  },
  {
   "cell_type": "code",
   "execution_count": null,
   "id": "1dca8923",
   "metadata": {},
   "outputs": [
    {
     "name": "stdout",
     "output_type": "stream",
     "text": [
      "                  channelId subscriberCount  hiddenSubscriberCount videoCount  \\\n",
      "0  UC16niRr50-MSBwiO3YDb3RA        18000000                  False      25437   \n",
      "\n",
      "    viewCount  \n",
      "0  6070095198  \n"
     ]
    }
   ],
   "source": [
    "from googleapiclient.discovery import build\n",
    "import pandas as pd\n",
    "\n",
    "api_key = 'xxxxx'  # Replace with your actual API key\n",
    "youtube = build('youtube', 'v3', developerKey=api_key)\n",
    "\n",
    "# Make a request to the YouTube API\n",
    "request = youtube.channels().list(\n",
    "    part='statistics',\n",
    "    forUsername='BBCNews'\n",
    ")\n",
    "\n",
    "# Get the response from the API\n",
    "response = request.execute()\n",
    "\n",
    "# Extract relevant statistics\n",
    "channel_data = response['items'][0]\n",
    "stats = channel_data['statistics']\n",
    "\n",
    "# Convert to DataFrame\n",
    "df = pd.DataFrame([{\n",
    "    'channelId': channel_data['id'],\n",
    "    'subscriberCount': stats.get('subscriberCount'),\n",
    "    'hiddenSubscriberCount': stats.get('hiddenSubscriberCount'),\n",
    "    'videoCount': stats.get('videoCount'),\n",
    "    'viewCount': stats.get('viewCount')\n",
    "}])\n",
    "\n",
    "# Show the DataFrame\n",
    "print(df)\n"
   ]
  },
  {
   "cell_type": "code",
   "execution_count": null,
   "id": "c17ba7f3",
   "metadata": {},
   "outputs": [
    {
     "name": "stdout",
     "output_type": "stream",
     "text": [
      "Failed to fetch data for aneh28: 'items'\n",
      "Failed to fetch data for RECESSIM: 'items'\n",
      "Failed to fetch data for EasyDataScience: 'items'\n",
      "✅ Data saved successfully!\n",
      "CSV Path: C:\\Python\\Krist\\YouTubeStats\\youtube_channel_stats_20250515_134651.csv\n",
      "Excel Path: C:\\Python\\Krist\\YouTubeStats\\youtube_channel_stats_20250515_134651.xlsx\n"
     ]
    }
   ],
   "source": [
    "from googleapiclient.discovery import build\n",
    "import pandas as pd\n",
    "import os\n",
    "from datetime import datetime\n",
    "\n",
    "# Your YouTube Data API key\n",
    "api_key = 'xxxx'\n",
    "youtube = build('youtube', 'v3', developerKey=api_key)\n",
    "\n",
    "# List of channel usernames\n",
    "channels = ['BBCNews', 'CNN', 'PewDiePie', 'Veritasium','aneh28','RECESSIM','Simplilearn','EasyDataScience']\n",
    "\n",
    "# Create today's date string for filename (format: YYYYMMDD)\n",
    "#today = datetime.now().strftime('%Y%m%d')\n",
    "today = datetime.now().strftime('%Y%m%d_%H%M%S')  # e.g. 20250422_134512\n",
    "\n",
    "\n",
    "# Folder to save files\n",
    "folder_path = r'C:\\Python\\Krist\\YouTubeStats'  # Change this to your preferred path\n",
    "# Create the folder if it doesn't exist\n",
    "os.makedirs(folder_path, exist_ok=True)\n",
    "\n",
    "# Initialize list to store data\n",
    "data = []\n",
    "\n",
    "for username in channels:\n",
    "    try:\n",
    "        request = youtube.channels().list(\n",
    "            part='statistics,snippet',\n",
    "            forUsername=username\n",
    "        )\n",
    "        response = request.execute()\n",
    "        item = response['items'][0]\n",
    "\n",
    "        stats = item['statistics']\n",
    "        snippet = item['snippet']\n",
    "\n",
    "        data.append({\n",
    "            'Channel Name': snippet.get('title'),\n",
    "            'Channel ID': item.get('id'),\n",
    "            'Subscribers': stats.get('subscriberCount'),\n",
    "            'Views': stats.get('viewCount'),\n",
    "            'Videos': stats.get('videoCount'),\n",
    "            'Hidden Subs': stats.get('hiddenSubscriberCount')\n",
    "        })\n",
    "\n",
    "    except Exception as e:\n",
    "        print(f\"Failed to fetch data for {username}: {e}\")\n",
    "\n",
    "# Create DataFrame\n",
    "df = pd.DataFrame(data)\n",
    "\n",
    "# Generate filenames with date\n",
    "csv_file = os.path.join(folder_path, f'youtube_channel_stats_{today}.csv')\n",
    "excel_file = os.path.join(folder_path, f'youtube_channel_stats_{today}.xlsx')\n",
    "\n",
    "# Save files\n",
    "df.to_csv(csv_file, index=False)\n",
    "df.to_excel(excel_file, index=False)\n",
    "\n",
    "print(\"✅ Data saved successfully!\")\n",
    "print(f\"CSV Path: {csv_file}\")\n",
    "print(f\"Excel Path: {excel_file}\")\n"
   ]
  },
  {
   "cell_type": "code",
   "execution_count": null,
   "id": "440ec68f",
   "metadata": {},
   "outputs": [],
   "source": []
  }
 ],
 "metadata": {
  "kernelspec": {
   "display_name": "base",
   "language": "python",
   "name": "python3"
  },
  "language_info": {
   "codemirror_mode": {
    "name": "ipython",
    "version": 3
   },
   "file_extension": ".py",
   "mimetype": "text/x-python",
   "name": "python",
   "nbconvert_exporter": "python",
   "pygments_lexer": "ipython3",
   "version": "3.11.7"
  }
 },
 "nbformat": 4,
 "nbformat_minor": 5
}
